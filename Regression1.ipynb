{
 "cells": [
  {
   "cell_type": "markdown",
   "id": "f45248b1-4e65-4b55-a7d9-e626285495ab",
   "metadata": {},
   "source": [
    "## Q.1\n",
    "\n",
    "Simple Linear Regression:\n",
    "\n",
    "Simple linear regression involves predicting a dependent variable based on only one independent variable.\n",
    "\n",
    "Example: Predicting a student's exam score (y) based on the number of hours they studied (x)\n",
    "\n",
    "Multiple Linear Regression:\n",
    "\n",
    "Multiple linear regression involves predicting a dependent variable based on two or more independent variables.\n",
    "\n",
    "Example: Predicting house price (y) based on variables such as square footage (x1), number of bedrooms (x2), and location (x3)."
   ]
  },
  {
   "cell_type": "markdown",
   "id": "5a63ec46-9c37-4759-b077-33d01147c302",
   "metadata": {},
   "source": [
    "## Q.2 \n",
    "The key assumptions of linear regression:\n",
    "\n",
    "\n",
    "1.Linearity\n",
    "2.Independence\n",
    "3.Homoscedasticity\n",
    "4.No Multicollinearity\n",
    "\n",
    "To check whether these assumptions hold in a given dataset, various diagnostic techniques can be employed:\n",
    "\n",
    "\n",
    "1.Residual Analysis\n",
    "2.Normality Tests\n",
    "3.Homoscedasticity Tests\n",
    "4.Detecting Multicollinearity\n",
    "5.Durbin-Watson Test"
   ]
  },
  {
   "cell_type": "markdown",
   "id": "c2ef2c72-efc6-4b40-8a8b-6017d969fef5",
   "metadata": {},
   "source": [
    "## Q.3\n",
    "Intercept : The intercept represents the value of the dependent variable when the independent variable is zero. It is the point where the regression line intersects the y-axis. In some cases, the intercept may not have a meaningful interpretation, especially if the independent variable cannot logically be zero.\n",
    "\n",
    "Slope : The slope coefficient indicates the change in the dependent variable for a one-unit change in the independent variable. It reflects the rate of change in the dependent variable associated with a unit change in the independent variable.\n",
    "\n",
    "\n",
    "\n",
    "Scenario: Suppose you are analyzing the relationship between years of experience (independent variable) and salary (dependent variable) for a group of employees."
   ]
  },
  {
   "cell_type": "markdown",
   "id": "46ff06ed-7688-4a56-a638-6a2b05a5b739",
   "metadata": {},
   "source": [
    "## Q.4 \n",
    "Gradient descent is a fundamental optimization algorithm used in machine learning and optimization problems to minimize the cost or loss function. The basic idea behind gradient descent is to iteratively adjust the parameters of a model in the direction of the steepest descent of the cost function, until convergence to a minimum is reached.\n",
    "\n",
    "Gradient descent is used in various machine learning algorithms, including:\n",
    "1.Linear Regression\n",
    "2.Logistic Regression\n",
    "3.Neural Networks\n",
    "4.Support Vector Machines (SVM)\n",
    "5.k-Means Clustering\n"
   ]
  },
  {
   "cell_type": "markdown",
   "id": "7d303488-2d25-4a73-a008-09e5c8e1d7b8",
   "metadata": {},
   "source": [
    "## Q.5\n",
    "\n",
    "Multiple linear regression is a statistical technique used to model the relationship between a dependent variable and two or more independent variables. It extends the concept of simple linear regression by allowing for multiple predictors to be included in the model.\n",
    "\n",
    "Simple Linear Regression:\n",
    "\n",
    "Involves predicting a dependent variable based on only one independent variable.\n",
    "The equation is \n",
    "x is the independent variable.\n",
    "There is only one coefficient  representing the slope of the line.\n",
    "Suitable for modeling relationships between two variables when there's a clear linear relationship.\n",
    "\n",
    "Multiple Linear Regression:\n",
    "\n",
    "Involves predicting a dependent variable based on two or more independent variables.\n",
    "The equation includes multiple independent variables: \n",
    "\n",
    "There are multiple coefficients  representing the slopes of the respective variables.\n",
    "Suitable for modeling more complex relationships where multiple factors influence the dependent variable simultaneously.\n"
   ]
  },
  {
   "cell_type": "markdown",
   "id": "f435765b-1c5d-45b2-bc0d-56c5c16d9e4a",
   "metadata": {},
   "source": [
    "## Q.6\n",
    "\n",
    "Multicollinearity in multiple linear regression occurs when two or more independent variables in the model are highly correlated with each other. This correlation can lead to issues in the estimation of the regression coefficients, making them unstable or difficult to interpret. Multicollinearity does not affect the predictive accuracy of the model, but it undermines the statistical significance and reliability of the estimated coefficients.\n",
    "\n",
    "To detect multicollinearity in a multiple linear regression model, several methods can be employed:\n",
    "\n",
    "Correlation Matrix,Variance Inflation Factor (VIF),Eigenvalues and Condition Indices\n",
    "\n",
    "several strategies can be employed to address this issue:\n",
    "\n",
    "Remove Redundant Variables,Combine Variables,Principal Component Analysis (PCA)"
   ]
  },
  {
   "cell_type": "markdown",
   "id": "68e95d94-6208-4ad5-bb97-27a1178fb9c3",
   "metadata": {},
   "source": [
    "## Q.7\n",
    "\n",
    "\n",
    "Polynomial regression is a type of regression analysis used when the relationship between the independent variable(s) and the dependent variable is nonlinear. It models the relationship between the independent variable(s) and the dependent variable as an nth-degree polynomial function. Polynomial regression extends the concept of linear regression by allowing for more flexible modeling of complex relationships.\n",
    "\n",
    "The main differences between polynomial regression and linear regression are:\n",
    "\n",
    "Functional Form,Flexibility,Interpretability,Risk of Overfitting"
   ]
  },
  {
   "cell_type": "markdown",
   "id": "03161d8c-4ce1-43bb-b873-5c929b491832",
   "metadata": {},
   "source": [
    "## Q.8 \n",
    "\n",
    "####  Advantages of Polynomial Regression compared to Linear Regression:\n",
    "\n",
    "1.Ability to Capture Nonlinear Relationships\n",
    "\n",
    "2.Increased Flexibility\n",
    "\n",
    "3.More Accurate Predictions\n",
    "\n",
    "#### Disadvantages of Polynomial Regression compared to Linear Regression:\n",
    "\n",
    "1.Risk of Overfitting:\n",
    "\n",
    "2.Complexity in Interpretation\n",
    "\n",
    "3.Increased Computational Complexity\n",
    "\n",
    "#### In what situations would you prefer to use polynomial regression\n",
    "\n"
   ]
  }
 ],
 "metadata": {
  "kernelspec": {
   "display_name": "Python 3 (ipykernel)",
   "language": "python",
   "name": "python3"
  },
  "language_info": {
   "codemirror_mode": {
    "name": "ipython",
    "version": 3
   },
   "file_extension": ".py",
   "mimetype": "text/x-python",
   "name": "python",
   "nbconvert_exporter": "python",
   "pygments_lexer": "ipython3",
   "version": "3.10.8"
  }
 },
 "nbformat": 4,
 "nbformat_minor": 5
}
